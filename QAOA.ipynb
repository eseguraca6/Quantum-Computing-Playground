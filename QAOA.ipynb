{
  "nbformat": 4,
  "nbformat_minor": 0,
  "metadata": {
    "colab": {
      "name": "QAOA.ipynb",
      "version": "0.3.2",
      "provenance": [],
      "include_colab_link": true
    },
    "kernelspec": {
      "name": "python3",
      "display_name": "Python 3"
    }
  },
  "cells": [
    {
      "cell_type": "markdown",
      "metadata": {
        "id": "view-in-github",
        "colab_type": "text"
      },
      "source": [
        "<a href=\"https://colab.research.google.com/github/eseguraca6/Quantum-Computing-Playground/blob/master/QAOA.ipynb\" target=\"_parent\"><img src=\"https://colab.research.google.com/assets/colab-badge.svg\" alt=\"Open In Colab\"/></a>"
      ]
    },
    {
      "cell_type": "code",
      "metadata": {
        "id": "nWe_D1VKExVE",
        "colab_type": "code",
        "outputId": "faec6b6e-8bdb-4862-d188-52c298e8d94d",
        "colab": {
          "base_uri": "https://localhost:8080/",
          "height": 738
        }
      },
      "source": [
        "import numpy as np\n",
        "!pip install git+https://github.com/quantumlib/Cirq\n",
        "  \n",
        "import matplotlib.pyplot as plt\n",
        "from pandas import DataFrame\n",
        "import cirq\n",
        "from cirq.ops import CNOT, TOFFOLI\n",
        "from cirq import Simulator\n",
        "import random\n",
        "from sympy import Symbol\n",
        "from cirq.circuits import InsertStrategy\n",
        "\n",
        "from google.colab import auth\n",
        "from oauth2client.client import GoogleCredentials"
      ],
      "execution_count": 1,
      "outputs": [
        {
          "output_type": "stream",
          "text": [
            "Collecting git+https://github.com/quantumlib/Cirq\n",
            "  Cloning https://github.com/quantumlib/Cirq to /tmp/pip-req-build-83ufmsvk\n",
            "  Running command git clone -q https://github.com/quantumlib/Cirq /tmp/pip-req-build-83ufmsvk\n",
            "Requirement already satisfied: google-api-python-client~=1.6 in /usr/local/lib/python3.6/dist-packages (from cirq==0.6.0.dev0) (1.7.9)\n",
            "Requirement already satisfied: matplotlib~=3.0 in /usr/local/lib/python3.6/dist-packages (from cirq==0.6.0.dev0) (3.0.3)\n",
            "Requirement already satisfied: networkx~=2.1 in /usr/local/lib/python3.6/dist-packages (from cirq==0.6.0.dev0) (2.3)\n",
            "Requirement already satisfied: numpy~=1.16 in /usr/local/lib/python3.6/dist-packages (from cirq==0.6.0.dev0) (1.16.4)\n",
            "Requirement already satisfied: protobuf~=3.5 in /usr/local/lib/python3.6/dist-packages (from cirq==0.6.0.dev0) (3.7.1)\n",
            "Requirement already satisfied: requests~=2.18 in /usr/local/lib/python3.6/dist-packages (from cirq==0.6.0.dev0) (2.21.0)\n",
            "Requirement already satisfied: sortedcontainers~=2.0 in /usr/local/lib/python3.6/dist-packages (from cirq==0.6.0.dev0) (2.1.0)\n",
            "Requirement already satisfied: scipy in /usr/local/lib/python3.6/dist-packages (from cirq==0.6.0.dev0) (1.3.0)\n",
            "Requirement already satisfied: sympy in /usr/local/lib/python3.6/dist-packages (from cirq==0.6.0.dev0) (1.1.1)\n",
            "Collecting typing_extensions (from cirq==0.6.0.dev0)\n",
            "  Downloading https://files.pythonhosted.org/packages/27/aa/bd1442cfb0224da1b671ab334d3b0a4302e4161ea916e28904ff9618d471/typing_extensions-3.7.4-py3-none-any.whl\n",
            "Requirement already satisfied: uritemplate<4dev,>=3.0.0 in /usr/local/lib/python3.6/dist-packages (from google-api-python-client~=1.6->cirq==0.6.0.dev0) (3.0.0)\n",
            "Requirement already satisfied: google-auth>=1.4.1 in /usr/local/lib/python3.6/dist-packages (from google-api-python-client~=1.6->cirq==0.6.0.dev0) (1.4.2)\n",
            "Requirement already satisfied: six<2dev,>=1.6.1 in /usr/local/lib/python3.6/dist-packages (from google-api-python-client~=1.6->cirq==0.6.0.dev0) (1.12.0)\n",
            "Requirement already satisfied: google-auth-httplib2>=0.0.3 in /usr/local/lib/python3.6/dist-packages (from google-api-python-client~=1.6->cirq==0.6.0.dev0) (0.0.3)\n",
            "Requirement already satisfied: httplib2<1dev,>=0.9.2 in /usr/local/lib/python3.6/dist-packages (from google-api-python-client~=1.6->cirq==0.6.0.dev0) (0.11.3)\n",
            "Requirement already satisfied: kiwisolver>=1.0.1 in /usr/local/lib/python3.6/dist-packages (from matplotlib~=3.0->cirq==0.6.0.dev0) (1.1.0)\n",
            "Requirement already satisfied: pyparsing!=2.0.4,!=2.1.2,!=2.1.6,>=2.0.1 in /usr/local/lib/python3.6/dist-packages (from matplotlib~=3.0->cirq==0.6.0.dev0) (2.4.0)\n",
            "Requirement already satisfied: cycler>=0.10 in /usr/local/lib/python3.6/dist-packages (from matplotlib~=3.0->cirq==0.6.0.dev0) (0.10.0)\n",
            "Requirement already satisfied: python-dateutil>=2.1 in /usr/local/lib/python3.6/dist-packages (from matplotlib~=3.0->cirq==0.6.0.dev0) (2.5.3)\n",
            "Requirement already satisfied: decorator>=4.3.0 in /usr/local/lib/python3.6/dist-packages (from networkx~=2.1->cirq==0.6.0.dev0) (4.4.0)\n",
            "Requirement already satisfied: setuptools in /usr/local/lib/python3.6/dist-packages (from protobuf~=3.5->cirq==0.6.0.dev0) (41.0.1)\n",
            "Requirement already satisfied: chardet<3.1.0,>=3.0.2 in /usr/local/lib/python3.6/dist-packages (from requests~=2.18->cirq==0.6.0.dev0) (3.0.4)\n",
            "Requirement already satisfied: certifi>=2017.4.17 in /usr/local/lib/python3.6/dist-packages (from requests~=2.18->cirq==0.6.0.dev0) (2019.3.9)\n",
            "Requirement already satisfied: urllib3<1.25,>=1.21.1 in /usr/local/lib/python3.6/dist-packages (from requests~=2.18->cirq==0.6.0.dev0) (1.24.3)\n",
            "Requirement already satisfied: idna<2.9,>=2.5 in /usr/local/lib/python3.6/dist-packages (from requests~=2.18->cirq==0.6.0.dev0) (2.8)\n",
            "Requirement already satisfied: mpmath>=0.19 in /usr/local/lib/python3.6/dist-packages (from sympy->cirq==0.6.0.dev0) (1.1.0)\n",
            "Requirement already satisfied: pyasn1-modules>=0.2.1 in /usr/local/lib/python3.6/dist-packages (from google-auth>=1.4.1->google-api-python-client~=1.6->cirq==0.6.0.dev0) (0.2.5)\n",
            "Requirement already satisfied: cachetools>=2.0.0 in /usr/local/lib/python3.6/dist-packages (from google-auth>=1.4.1->google-api-python-client~=1.6->cirq==0.6.0.dev0) (3.1.1)\n",
            "Requirement already satisfied: rsa>=3.1.4 in /usr/local/lib/python3.6/dist-packages (from google-auth>=1.4.1->google-api-python-client~=1.6->cirq==0.6.0.dev0) (4.0)\n",
            "Requirement already satisfied: pyasn1<0.5.0,>=0.4.1 in /usr/local/lib/python3.6/dist-packages (from pyasn1-modules>=0.2.1->google-auth>=1.4.1->google-api-python-client~=1.6->cirq==0.6.0.dev0) (0.4.5)\n",
            "Building wheels for collected packages: cirq\n",
            "  Building wheel for cirq (setup.py) ... \u001b[?25l\u001b[?25hdone\n",
            "  Stored in directory: /tmp/pip-ephem-wheel-cache-jge2p1a2/wheels/c9/f4/ee/029123a49c5e2d75d08c2a9f937e207b88f045901db04632a7\n",
            "Successfully built cirq\n",
            "Installing collected packages: typing-extensions, cirq\n",
            "Successfully installed cirq-0.6.0.dev0 typing-extensions-3.7.4\n"
          ],
          "name": "stdout"
        }
      ]
    },
    {
      "cell_type": "code",
      "metadata": {
        "id": "F-fheU40GMrO",
        "colab_type": "code",
        "colab": {}
      },
      "source": [
        "# This is the ADAM implementation of SGD. \n",
        "# I found through developing this simulation that it reduces running \n",
        "# time significantly. \n",
        "# For specific information regarding the algorithm, please see OpenAI's paper\n",
        "# mentioned in this notebook. \n",
        "\n",
        "def QAOA_Model_Params_Optimizier_Adam(length, param1, param2):\n",
        "  \n",
        "  param1_arr =[]\n",
        "  param2_arr =[]\n",
        "  \n",
        "  gradient_arr = []\n",
        "  loss_arr =[]\n",
        "  label_arr =[]\n",
        "\n",
        "  zero_state_arr =[]\n",
        "  one_state_arr =[]\n",
        "  \n",
        "  delta_param1= []\n",
        "  delta_param2= []\n",
        "  \n",
        "  delta_loss = []\n",
        "  \n",
        "  status = 'not done'\n",
        "  count = 1\n",
        "  \n",
        "  #code to implement Learning Rate Optimization\n",
        "  \n",
        "  gradient_moment = 0 \n",
        "  momentum_moment =0\n",
        "  beta_1 = 0.9\n",
        "  beta_2 = 0.999\n",
        "  smoothing_epsilon = 1e-8\n",
        "  learning_rate = 0.001\n",
        "  \n",
        "  count = 1\n",
        "  \n",
        "  while status == 'not done':\n",
        "    #get results\n",
        "    #print('current count: ', count)\n",
        "    #print('current weight:', random_t_parameter)\n",
        "    \n",
        "    param1_arr.append(param1)\n",
        "    param2_arr.append(param2)\n",
        "    \n",
        "    #print(xlayer_arr)\n",
        "    \n",
        "    circuit = cirq.Circuit()\n",
        "    \n",
        "    test_circuit_label = QAOA_circuit(length, param1, param2)\n",
        "    circuit.append(test_circuit_label,strategy=InsertStrategy.INLINE)\n",
        "    \n",
        "    #print(circuit)\n",
        "    simulator = cirq.Simulator()\n",
        "    \n",
        "    results = simulator.run(circuit, repetitions=5000)\n",
        "    \n",
        "    #check the state population\n",
        "    \n",
        "    count_results = results.histogram(key='x')\n",
        "  \n",
        "    zero_state_arr.append(count_results[0]/5000)\n",
        "    one_state_arr.append(count_results[1]/5000)\n",
        "    \n",
        "    s_k, s_v= zip(*results.measurements.items())\n",
        "    \n",
        "    #check for the loss function at this point\n",
        "    #convert from 0,1 state count to -1,1\n",
        "    \n",
        "    current_state_values = 1 - 2*np.array(s_v).astype(np.int32)\n",
        "    \n",
        "    current_predicted_label_value = np.mean(current_state_values)\n",
        "    \n",
        "    label_arr.append(current_predicted_label_value)\n",
        "  \n",
        "    current_loss_value = 1 - np.square(current_predicted_label_value)\n",
        "    \n",
        "    loss_arr.append(current_loss_value)\n",
        "    \n",
        "    print('current count: ', count, 'current loss: ', current_loss_value)\n",
        "    \n",
        "    current_gradient_value = 2*current_predicted_label_value\n",
        "    gradient_arr.append(current_gradient_value)\n",
        "    \n",
        "    current_grad_square = np.square(current_gradient_value)\n",
        "    \n",
        "    if count > 10000:\n",
        "      print('count is way too much!')\n",
        "      status = 'done'\n",
        "      return(param1_arr, param2_arr, loss_arr, gradient_arr, label_arr, zero_state_arr, one_state_arr)\n",
        "    \n",
        "    elif np.abs(current_loss_value) < 1e-6:\n",
        "      status = 'done'\n",
        "      \n",
        "      optimal_values = [param1_arr[-1],param2_arr[-1]]\n",
        "      print('Optimal values:', optimal_values)\n",
        "      \n",
        "      print('Done with Optimization Algorithm!')\n",
        "      cirq.plot_state_histogram(results)\n",
        "\n",
        "\n",
        "    else:\n",
        "      \n",
        "      next_gradient_moment = beta_1*gradient_moment +(1-beta_1)*current_gradient_value\n",
        "      #biased corrected first estimate \n",
        "      \n",
        "      biased_gradient_moment = next_gradient_moment / (1- beta_1**count)\n",
        "      \n",
        "      #swap the value for the next iteration\n",
        "      gradient_moment = next_gradient_moment \n",
        "      \n",
        "      next_momentum_moment = beta_2*momentum_moment + (1-beta_2)*np.square(current_gradient_value)\n",
        "      \n",
        "      #biased corrected first estimate for momentum \n",
        "      biased_momentum_moment = next_momentum_moment / (1 - beta_2**count)\n",
        "      \n",
        "      #another swap\n",
        "      momentum_moment = next_momentum_moment\n",
        "      \n",
        "      #adjust the weights to find optimal parameters \n",
        "      param1 = param1 -  learning_rate * biased_gradient_moment / (np.sqrt(biased_momentum_moment) + smoothing_epsilon)\n",
        "      param2 = param2 - learning_rate * biased_gradient_moment / (np.sqrt(biased_momentum_moment) + smoothing_epsilon)\n",
        "      #print('next parameters: ' ,param1, param2)     \n",
        "      count = count +1\n",
        "      \n",
        "  return(param1_arr, param2_arr, loss_arr, gradient_arr, label_arr, zero_state_arr, one_state_arr, optimal_values,circuit)\n",
        "\n",
        "def layer_h(length):\n",
        "  \n",
        "  h_gate = cirq.H\n",
        "  \n",
        "  for i in range(length-1):\n",
        "      yield h_gate(cirq.LineQubit(i))\n",
        "      \n",
        "def layer_control_gate_rotation_z(length, parameter):\n",
        "  \n",
        "  control_gate = cirq.CNOT\n",
        "  rotation_on_Z = cirq.ZPowGate(exponent=parameter)\n",
        "  \n",
        "  for i in range(length-2):\n",
        "    yield control_gate(cirq.LineQubit(i), cirq.LineQubit(i+1)) \n",
        "    yield rotation_on_Z(cirq.LineQubit(i+1))\n",
        "    yield control_gate(cirq.LineQubit(i), cirq.LineQubit(i+1))\n",
        "    \n",
        "def flipped_control_gate_system(length, parameter):\n",
        "  \n",
        "  control_gate = cirq.CNOT\n",
        "  rotation_on_Z = cirq.ZPowGate(exponent=parameter)\n",
        "  \n",
        "  yield control_gate(cirq.LineQubit(length-2), cirq.LineQubit(0))\n",
        "  yield rotation_on_Z(cirq.LineQubit(0))\n",
        "  yield control_gate(cirq.LineQubit(length-2), cirq.LineQubit(0))\n",
        "  \n",
        "def layer_rotations_x(length, parameter):\n",
        "  \n",
        "  rot = cirq.XPowGate(exponent=parameter)\n",
        "  \n",
        "  for i in range(length-1):\n",
        "      yield rot(cirq.LineQubit(i))  \n",
        "\n",
        "\n",
        "def QAOA_circuit(length, param1, param2):\n",
        "  #create the qubits for the circuit \n",
        "  qubits = [cirq.LineQubit(i) for i in range(length)]\n",
        "  \n",
        "  yield cirq.X(cirq.LineQubit(length-1))\n",
        "  yield layer_h(length)\n",
        "  yield layer_control_gate_rotation_z(length, 2*param1) \n",
        "  yield flipped_control_gate_system(length, 2*param1)\n",
        "  yield layer_rotations_x(length, 2*param2)\n",
        "  yield layer_h(length)\n",
        "  \n",
        "  #add the n-toffoli gate\n",
        "  cnX = cirq.X.controlled_by(*qubits[:-1])\n",
        "  #cnX = cirq.X.controlled_by(cirq.LineQubit(0), cirq.LineQubit(1),  cirq.LineQubit(2),cirq.LineQubit(3))\n",
        "  \n",
        "  yield cnX(cirq.LineQubit(length-1))\n",
        "  #yield cirq.Y(cirq.LineQubit(4))\n",
        "  #yield cirq.Z(cirq.LineQubit(4))\n",
        "  yield cirq.measure(cirq.LineQubit(length-1), key='x')"
      ],
      "execution_count": 0,
      "outputs": []
    },
    {
      "cell_type": "code",
      "metadata": {
        "id": "ZJ2B4BqG4S_x",
        "colab_type": "code",
        "outputId": "eeea23ba-d32e-4c35-e5a3-ab0a66ff62cf",
        "colab": {
          "base_uri": "https://localhost:8080/",
          "height": 473
        }
      },
      "source": [
        "param1, param2= np.random.uniform(-2,2) ,np.random.uniform(0,2)\n",
        "print('Initial Phase Parameters: ',param1, param2)\n",
        "length=5\n",
        "\n",
        "circuit = cirq.Circuit()\n",
        "\n",
        "circuit.append(QAOA_circuit(length, param1, param2),strategy=InsertStrategy.INLINE)\n",
        "#circuit.append(cirq.measure(*qubits[:length-1]),strategy=InsertStrategy.INLINE)\n",
        "print(circuit)\n",
        "\n",
        "simulator = cirq.Simulator()\n",
        "\n",
        "results = simulator.run(circuit, repetitions=5000)\n",
        "\n",
        "cirq.plot_state_histogram(results)"
      ],
      "execution_count": 102,
      "outputs": [
        {
          "output_type": "stream",
          "text": [
            "Initial Phase Parameters:  -0.24983965011888287 0.11478067893489463\n",
            "0: ───H───@──────────@─────────────────────────────────X───S^-1───X───X^(3/13)───H───@────────────\n",
            "          │          │                                 │          │                  │\n",
            "1: ───H───X───S^-1───X───@──────────@──────────────────┼──────────┼───X^(3/13)───H───@────────────\n",
            "                         │          │                  │          │                  │\n",
            "2: ───H──────────────────X───S^-1───X───@──────────@───┼──────────┼───X^(3/13)───H───@────────────\n",
            "                                        │          │   │          │                  │\n",
            "3: ───H─────────────────────────────────X───S^-1───X───@──────────@───X^(3/13)───H───@────────────\n",
            "                                                                                     │\n",
            "4: ───X──────────────────────────────────────────────────────────────────────────────X───M('x')───\n"
          ],
          "name": "stdout"
        },
        {
          "output_type": "display_data",
          "data": {
            "image/png": "[encoded data removed]",
            "text/plain": [
              "<Figure size 432x288 with 1 Axes>"
            ]
          },
          "metadata": {
            "tags": []
          }
        },
        {
          "output_type": "execute_result",
          "data": {
            "text/plain": [
              "array([1209., 3791.])"
            ]
          },
          "metadata": {
            "tags": []
          },
          "execution_count": 102
        }
      ]
    },
    {
      "cell_type": "code",
      "metadata": {
        "id": "wuyZwC6IViK-",
        "colab_type": "code",
        "outputId": "3304e8bd-301c-4159-8226-9e4f3df34f12",
        "colab": {
          "base_uri": "https://localhost:8080/",
          "height": 1000
        }
      },
      "source": [
        "print('Initial Phase Parameters: ',param1, param2)\n",
        "\n",
        "ml_qaoa = QAOA_Model_Params_Optimizier_Adam(length, param1,param2)"
      ],
      "execution_count": 103,
      "outputs": [
        {
          "output_type": "stream",
          "text": [
            "Initial Phase Parameters:  -0.24983965011888287 0.11478067893489463\n",
            "current count:  1 current loss:  0.74477296\n",
            "current count:  2 current loss:  0.7439640000000001\n",
            "current count:  3 current loss:  0.72626176\n",
            "current count:  4 current loss:  0.73949184\n",
            "current count:  5 current loss:  0.73539264\n",
            "current count:  6 current loss:  0.75119856\n",
            "current count:  7 current loss:  0.7463870399999999\n",
            "current count:  8 current loss:  0.75\n",
            "current count:  9 current loss:  0.75239424\n",
            "current count:  10 current loss:  0.76068336\n",
            "current count:  11 current loss:  0.75911536\n",
            "current count:  12 current loss:  0.75239424\n",
            "current count:  13 current loss:  0.723324\n",
            "current count:  14 current loss:  0.75159744\n",
            "current count:  15 current loss:  0.74919936\n",
            "current count:  16 current loss:  0.75832944\n",
            "current count:  17 current loss:  0.72918384\n",
            "current count:  18 current loss:  0.74558064\n",
            "current count:  19 current loss:  0.72374464\n",
            "current count:  20 current loss:  0.7419359999999999\n",
            "current count:  21 current loss:  0.73084656\n",
            "current count:  22 current loss:  0.7419359999999999\n",
            "current count:  23 current loss:  0.73908336\n",
            "current count:  24 current loss:  0.7382654399999999\n",
            "current count:  25 current loss:  0.74274816\n",
            "current count:  26 current loss:  0.723324\n",
            "current count:  27 current loss:  0.71227504\n",
            "current count:  28 current loss:  0.72079344\n",
            "current count:  29 current loss:  0.7419359999999999\n",
            "current count:  30 current loss:  0.72079344\n",
            "current count:  31 current loss:  0.7370361599999999\n",
            "current count:  32 current loss:  0.70493376\n",
            "current count:  33 current loss:  0.70493376\n",
            "current count:  34 current loss:  0.70666944\n",
            "current count:  35 current loss:  0.70493376\n",
            "current count:  36 current loss:  0.71012544\n",
            "current count:  37 current loss:  0.7156977600000001\n",
            "current count:  38 current loss:  0.69219696\n",
            "current count:  39 current loss:  0.704064\n",
            "current count:  40 current loss:  0.6819040000000001\n",
            "current count:  41 current loss:  0.68595184\n",
            "current count:  42 current loss:  0.67098304\n",
            "current count:  43 current loss:  0.67828416\n",
            "current count:  44 current loss:  0.668224\n",
            "current count:  45 current loss:  0.66499056\n",
            "current count:  46 current loss:  0.67098304\n",
            "current count:  47 current loss:  0.65754096\n",
            "current count:  48 current loss:  0.64382976\n",
            "current count:  49 current loss:  0.6636\n",
            "current count:  50 current loss:  0.6485881600000001\n",
            "current count:  51 current loss:  0.642396\n",
            "current count:  52 current loss:  0.65095536\n",
            "current count:  53 current loss:  0.6466886399999999\n",
            "current count:  54 current loss:  0.6332486399999999\n",
            "current count:  55 current loss:  0.61659136\n",
            "current count:  56 current loss:  0.6598777599999999\n",
            "current count:  57 current loss:  0.60007024\n",
            "current count:  58 current loss:  0.60007024\n",
            "current count:  59 current loss:  0.6155999999999999\n",
            "current count:  60 current loss:  0.61659136\n",
            "current count:  61 current loss:  0.62103664\n",
            "current count:  62 current loss:  0.6066201600000001\n",
            "current count:  63 current loss:  0.58834944\n",
            "current count:  64 current loss:  0.5774999999999999\n",
            "current count:  65 current loss:  0.5816497599999999\n",
            "current count:  66 current loss:  0.55217136\n",
            "current count:  67 current loss:  0.57176064\n",
            "current count:  68 current loss:  0.55217136\n",
            "current count:  69 current loss:  0.57437424\n",
            "current count:  70 current loss:  0.521136\n",
            "current count:  71 current loss:  0.5532414400000001\n",
            "current count:  72 current loss:  0.5686137599999999\n",
            "current count:  73 current loss:  0.53977344\n",
            "current count:  74 current loss:  0.53923056\n",
            "current count:  75 current loss:  0.5283057600000001\n",
            "current count:  76 current loss:  0.507196\n",
            "current count:  77 current loss:  0.507196\n",
            "current count:  78 current loss:  0.4902040000000001\n",
            "current count:  79 current loss:  0.49362543999999997\n",
            "current count:  80 current loss:  0.47234303999999994\n",
            "current count:  81 current loss:  0.46710000000000007\n",
            "current count:  82 current loss:  0.4752446399999999\n",
            "current count:  83 current loss:  0.45062256\n",
            "current count:  84 current loss:  0.42543600000000004\n",
            "current count:  85 current loss:  0.44646399999999997\n",
            "current count:  86 current loss:  0.44646399999999997\n",
            "current count:  87 current loss:  0.43509743999999995\n",
            "current count:  88 current loss:  0.4332921599999999\n",
            "current count:  89 current loss:  0.4338942400000001\n",
            "current count:  90 current loss:  0.4230078399999999\n",
            "current count:  91 current loss:  0.4138566400000001\n",
            "current count:  92 current loss:  0.38785024\n",
            "current count:  93 current loss:  0.382204\n",
            "current count:  94 current loss:  0.36510976000000006\n",
            "current count:  95 current loss:  0.38785024\n",
            "current count:  96 current loss:  0.37146816000000005\n",
            "current count:  97 current loss:  0.3548697599999999\n",
            "current count:  98 current loss:  0.3695639999999999\n",
            "current count:  99 current loss:  0.34907376\n",
            "current count:  100 current loss:  0.31309056\n",
            "current count:  101 current loss:  0.32036464\n",
            "current count:  102 current loss:  0.3177240000000001\n",
            "current count:  103 current loss:  0.32825583999999997\n",
            "current count:  104 current loss:  0.3256305599999999\n",
            "current count:  105 current loss:  0.3164017600000001\n",
            "current count:  106 current loss:  0.29909615999999994\n",
            "current count:  107 current loss:  0.27681983999999993\n",
            "current count:  108 current loss:  0.26246256\n",
            "current count:  109 current loss:  0.28496064\n",
            "current count:  110 current loss:  0.26246256\n",
            "current count:  111 current loss:  0.26794863999999996\n",
            "current count:  112 current loss:  0.2569560000000001\n",
            "current count:  113 current loss:  0.23052016000000008\n",
            "current count:  114 current loss:  0.2227814399999999\n",
            "current count:  115 current loss:  0.21995776\n",
            "current count:  116 current loss:  0.23402496000000006\n",
            "current count:  117 current loss:  0.20932336000000007\n",
            "current count:  118 current loss:  0.18711744000000008\n",
            "current count:  119 current loss:  0.20647535999999989\n",
            "current count:  120 current loss:  0.19431424000000008\n",
            "current count:  121 current loss:  0.20932336000000007\n",
            "current count:  122 current loss:  0.18855935999999995\n",
            "current count:  123 current loss:  0.16898544000000004\n",
            "current count:  124 current loss:  0.18855935999999995\n",
            "current count:  125 current loss:  0.15801024000000008\n",
            "current count:  126 current loss:  0.15654144000000003\n",
            "current count:  127 current loss:  0.15654144000000003\n",
            "current count:  128 current loss:  0.14548464000000005\n",
            "current count:  129 current loss:  0.1462239999999999\n",
            "current count:  130 current loss:  0.14252399999999987\n",
            "current count:  131 current loss:  0.13584384000000005\n",
            "current count:  132 current loss:  0.1216561599999999\n",
            "current count:  133 current loss:  0.11338944000000006\n",
            "current count:  134 current loss:  0.10053743999999998\n",
            "current count:  135 current loss:  0.10205423999999996\n",
            "current count:  136 current loss:  0.11414255999999989\n",
            "current count:  137 current loss:  0.10281215999999993\n",
            "current count:  138 current loss:  0.10432703999999993\n",
            "current count:  139 current loss:  0.09673983999999991\n",
            "current count:  140 current loss:  0.09217216000000006\n",
            "current count:  141 current loss:  0.08376815999999987\n",
            "current count:  142 current loss:  0.06065136000000004\n",
            "current count:  143 current loss:  0.07224576000000016\n",
            "current count:  144 current loss:  0.0914097599999999\n",
            "current count:  145 current loss:  0.06529775999999998\n",
            "current count:  146 current loss:  0.05521600000000004\n",
            "current count:  147 current loss:  0.05366015999999996\n",
            "current count:  148 current loss:  0.05288176000000011\n",
            "current count:  149 current loss:  0.06142656000000002\n",
            "current count:  150 current loss:  0.04742400000000002\n",
            "current count:  151 current loss:  0.05054463999999992\n",
            "current count:  152 current loss:  0.038815839999999935\n",
            "current count:  153 current loss:  0.05599343999999995\n",
            "current count:  154 current loss:  0.03489023999999985\n",
            "current count:  155 current loss:  0.05754736000000005\n",
            "current count:  156 current loss:  0.03724656000000004\n",
            "current count:  157 current loss:  0.028592639999999947\n",
            "current count:  158 current loss:  0.04429823999999993\n",
            "current count:  159 current loss:  0.028592639999999947\n",
            "current count:  160 current loss:  0.019107840000000098\n",
            "current count:  161 current loss:  0.03410415999999994\n",
            "current count:  162 current loss:  0.02385599999999999\n",
            "current count:  163 current loss:  0.020691839999999906\n",
            "current count:  164 current loss:  0.01990000000000003\n",
            "current count:  165 current loss:  0.01990000000000003\n",
            "current count:  166 current loss:  0.007983999999999991\n",
            "current count:  167 current loss:  0.016729439999999873\n",
            "current count:  168 current loss:  0.016729439999999873\n",
            "current count:  169 current loss:  0.008780639999999895\n",
            "current count:  170 current loss:  0.013553760000000081\n",
            "current count:  171 current loss:  0.010372959999999987\n",
            "current count:  172 current loss:  0.011963999999999975\n",
            "current count:  173 current loss:  0.007983999999999991\n",
            "current count:  174 current loss:  0.008780639999999895\n",
            "current count:  175 current loss:  0.007187040000000144\n",
            "current count:  176 current loss:  0.006389759999999911\n",
            "current count:  177 current loss:  0.0039959999999999996\n",
            "current count:  178 current loss:  0.005592160000000068\n",
            "current count:  179 current loss:  0.0023985599999999385\n",
            "current count:  180 current loss:  0.003197440000000107\n",
            "current count:  181 current loss:  0.0039959999999999996\n",
            "current count:  182 current loss:  0.0015993600000000496\n",
            "current count:  183 current loss:  0.0023985599999999385\n",
            "current count:  184 current loss:  0.0\n",
            "Optimal values: [-0.035587128427678784, 0.3290332006260987]\n",
            "Done with Optimization Algorithm!\n"
          ],
          "name": "stdout"
        },
        {
          "output_type": "display_data",
          "data": {
            "image/png": "[encoded data removed]",
            "text/plain": [
              "<Figure size 432x288 with 1 Axes>"
            ]
          },
          "metadata": {
            "tags": []
          }
        }
      ]
    },
    {
      "cell_type": "code",
      "metadata": {
        "id": "DU20YFgeVnKE",
        "colab_type": "code",
        "outputId": "aa75a767-6d55-452f-d190-7a3d6b914700",
        "colab": {
          "base_uri": "https://localhost:8080/",
          "height": 437
        }
      },
      "source": [
        "from google.colab import files\n",
        "\n",
        "#return(param1_arr, param2_arr, loss_arr, gradient_arr, label_arr, zero_state_arr, one_state_arr, optimal_values)\n",
        "\n",
        "plt.figure(figsize=(20,6))\n",
        "\n",
        "plt.subplot(121)\n",
        "plt.plot(ml_qaoa[2],marker='D',linestyle='-',color='indigo',markerfacecolor='none')\n",
        "plt.tick_params(axis='both',labelsize=20)\n",
        "plt.ylabel('Loss Function',fontsize=20)\n",
        "plt.xlabel('Training Iteration',fontsize=20)\n",
        "\n",
        "plt.subplot(122)\n",
        "plt.plot(ml_qaoa[5],marker='o',markersize=5,label='|0>',color='dodgerblue',linestyle=' ',markerfacecolor='none')\n",
        "plt.plot(ml_qaoa[6],marker='s',markersize=5, label='|1>',color='red',linestyle=' ',markerfacecolor='none')\n",
        "plt.legend(loc='best', fontsize=15)\n",
        "plt.ylabel('State Count',fontsize=20)\n",
        "plt.xlabel('Training Iteration',fontsize=20)\n",
        "plt.tick_params(axis='both',labelsize=20)\n",
        "\n",
        "\n",
        "plt.tight_layout()\n",
        "\n",
        "plt.savefig('output_small_qaoa.png')\n",
        "\n",
        "#files.download('output_small_qaoa.png')"
      ],
      "execution_count": 104,
      "outputs": [
        {
          "output_type": "display_data",
          "data": {
            "image/png": "[encoded data removed]",
            "text/plain": [
              "<Figure size 1440x432 with 2 Axes>"
            ]
          },
          "metadata": {
            "tags": []
          }
        }
      ]
    },
    {
      "cell_type": "code",
      "metadata": {
        "id": "-u58XpqZF2SI",
        "colab_type": "code",
        "colab": {
          "base_uri": "https://localhost:8080/",
          "height": 354
        },
        "outputId": "8eca031f-dd2b-4c78-dc3b-e3403ff691fe"
      },
      "source": [
        "plt.figure(figsize=(10,5))\n",
        "plt.plot(ml_qaoa[0],marker='o',markersize=5,label=r'$\\beta$',color='dodgerblue',linestyle=' ',markerfacecolor='none')\n",
        "plt.plot(ml_qaoa[1],marker='s',markersize=5, label=r'$\\gamma$',color='red',linestyle=' ',markerfacecolor='none')\n",
        "plt.legend(loc='best', fontsize=15)\n",
        "plt.ylabel('State Count',fontsize=20)\n",
        "plt.xlabel('Training Iteration',fontsize=20)\n",
        "plt.tick_params(axis='both',labelsize=20)\n",
        "\n"
      ],
      "execution_count": 105,
      "outputs": [
        {
          "output_type": "display_data",
          "data": {
            "image/png": "[encoded data removed]",
            "text/plain": [
              "<Figure size 720x360 with 1 Axes>"
            ]
          },
          "metadata": {
            "tags": []
          }
        }
      ]
    },
    {
      "cell_type": "code",
      "metadata": {
        "id": "xMxDDwN_bEpr",
        "colab_type": "code",
        "colab": {
          "base_uri": "https://localhost:8080/",
          "height": 173
        },
        "outputId": "f05b6794-4064-4693-e76b-02f0c8bf46be"
      },
      "source": [
        "circuit = cirq.Circuit()\n",
        "circuit.append(QAOA_circuit(length, ml_qaoa[7][0], ml_qaoa[7][1]),strategy=InsertStrategy.INLINE)\n",
        "#circuit.append(cirq.measure(*qubits[:length-1]),strategy=InsertStrategy.INLINE)\n",
        "print(circuit)"
      ],
      "execution_count": 74,
      "outputs": [
        {
          "output_type": "stream",
          "text": [
            "0: ───H───@───────────────@───────────────────────────────────────────X───Z^(-1/15)───X───X^-0.701───H───@────────────\n",
            "          │               │                                           │               │                  │\n",
            "1: ───H───X───Z^(-1/15)───X───@───────────────@───────────────────────┼───────────────┼───X^-0.701───H───@────────────\n",
            "                              │               │                       │               │                  │\n",
            "2: ───H───────────────────────X───Z^(-1/15)───X───@───────────────@───┼───────────────┼───X^-0.701───H───@────────────\n",
            "                                                  │               │   │               │                  │\n",
            "3: ───H───────────────────────────────────────────X───Z^(-1/15)───X───@───────────────@───X^-0.701───H───@────────────\n",
            "                                                                                                         │\n",
            "4: ───X──────────────────────────────────────────────────────────────────────────────────────────────────X───M('x')───\n"
          ],
          "name": "stdout"
        }
      ]
    },
    {
      "cell_type": "code",
      "metadata": {
        "id": "-9QcU9dyGeml",
        "colab_type": "code",
        "colab": {
          "base_uri": "https://localhost:8080/",
          "height": 173
        },
        "outputId": "9e05fb6a-b3d1-426e-a57d-39bf6a52b7dd"
      },
      "source": [
        " ml_qaoa[-1]"
      ],
      "execution_count": 75,
      "outputs": [
        {
          "output_type": "execute_result",
          "data": {
            "text/html": [
              "<pre style=\"overflow: auto; white-space: pre;\">0: ───H───@───────────────@───────────────────────────────────────────X───Z^(-1/15)───X───X^-0.701───H───@────────────\n",
              "          │               │                                           │               │                  │\n",
              "1: ───H───X───Z^(-1/15)───X───@───────────────@───────────────────────┼───────────────┼───X^-0.701───H───@────────────\n",
              "                              │               │                       │               │                  │\n",
              "2: ───H───────────────────────X───Z^(-1/15)───X───@───────────────@───┼───────────────┼───X^-0.701───H───@────────────\n",
              "                                                  │               │   │               │                  │\n",
              "3: ───H───────────────────────────────────────────X───Z^(-1/15)───X───@───────────────@───X^-0.701───H───@────────────\n",
              "                                                                                                         │\n",
              "4: ───X──────────────────────────────────────────────────────────────────────────────────────────────────X───M('x')───</pre>"
            ],
            "text/plain": [
              "0: ───H───@───────────────@───────────────────────────────────────────X───Z^(-1/15)───X───X^-0.701───H───@────────────\n",
              "          │               │                                           │               │                  │\n",
              "1: ───H───X───Z^(-1/15)───X───@───────────────@───────────────────────┼───────────────┼───X^-0.701───H───@────────────\n",
              "                              │               │                       │               │                  │\n",
              "2: ───H───────────────────────X───Z^(-1/15)───X───@───────────────@───┼───────────────┼───X^-0.701───H───@────────────\n",
              "                                                  │               │   │               │                  │\n",
              "3: ───H───────────────────────────────────────────X───Z^(-1/15)───X───@───────────────@───X^-0.701───H───@────────────\n",
              "                                                                                                         │\n",
              "4: ───X──────────────────────────────────────────────────────────────────────────────────────────────────X───M('x')───"
            ]
          },
          "metadata": {
            "tags": []
          },
          "execution_count": 75
        }
      ]
    }
  ]
}